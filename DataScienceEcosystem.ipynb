{
  "nbformat": 4,
  "nbformat_minor": 0,
  "metadata": {
    "colab": {
      "provenance": []
    },
    "kernelspec": {
      "name": "python3",
      "display_name": "Python 3"
    },
    "language_info": {
      "name": "python"
    }
  },
  "cells": [
    {
      "cell_type": "markdown",
      "source": [
        "Exercise 2: Create markdown cell with title of the notebook"
      ],
      "metadata": {
        "id": "u2UEsTUQaeyv"
      }
    },
    {
      "cell_type": "markdown",
      "source": [
        "<h1>Data Science Tools and Ecosystem</h1>"
      ],
      "metadata": {
        "id": "L18jPM5eZoGR"
      }
    },
    {
      "cell_type": "markdown",
      "source": [
        "Exercise 3 - Create a markdown cell for an introduction"
      ],
      "metadata": {
        "id": "nP5TMLLEa66M"
      }
    },
    {
      "cell_type": "markdown",
      "source": [
        "In this notebook, Data Science Tools and Ecosystem are summarized."
      ],
      "metadata": {
        "id": "rwPiPxTPbArU"
      }
    },
    {
      "cell_type": "markdown",
      "source": [
        "Exercise 10 - Insert a markdown cell to list Objectives"
      ],
      "metadata": {
        "id": "UQPxbOAwordz"
      }
    },
    {
      "cell_type": "markdown",
      "source": [
        "Objectives:\n",
        "* list data science languages\n",
        "* list data science libraries\n",
        "* table of Data Science tools\n",
        "* introducing arithmetic expression examples\n",
        "* multiply and add numbers"
      ],
      "metadata": {
        "id": "ApuGxTxlotKl"
      }
    },
    {
      "cell_type": "markdown",
      "source": [
        "Exercise 4 - Create a markdown cell to list data science languages"
      ],
      "metadata": {
        "id": "-8fDSkY5bcXS"
      }
    },
    {
      "cell_type": "markdown",
      "source": [
        "Some of the popular languages that Data Scientists use are:\n",
        "1. Python\n",
        "2. R\n",
        "3. SQL"
      ],
      "metadata": {
        "id": "SJN3VSKtbQdk"
      }
    },
    {
      "cell_type": "markdown",
      "source": [
        "Exercise 5 - Create a markdown cell to list data science libraries"
      ],
      "metadata": {
        "id": "Qrd62x_Rbv0D"
      }
    },
    {
      "cell_type": "markdown",
      "source": [
        "Some of the commonly used libraries used by Data Scientists include:\n",
        "1. Pandas\n",
        "2. Numpy\n",
        "3. Matplotlib"
      ],
      "metadata": {
        "id": "jw-2FGAebxiT"
      }
    },
    {
      "cell_type": "markdown",
      "source": [
        "Exercise 6 - Create a markdown cell with a table of Data Science tools"
      ],
      "metadata": {
        "id": "DJBHe_fadQlC"
      }
    },
    {
      "cell_type": "markdown",
      "source": [
        "| Data Science Tools |\n",
        "----------------------\n",
        "| Jupyter Notebook |\n",
        "| RStudio |\n",
        "| VS Code |"
      ],
      "metadata": {
        "id": "R4xW9rSZcfa2"
      }
    },
    {
      "cell_type": "markdown",
      "source": [
        "Exercise 7 - Create a markdown cell introducing arithmetic expression examples"
      ],
      "metadata": {
        "id": "XGp4dqRNmLHL"
      }
    },
    {
      "cell_type": "markdown",
      "source": [
        "<h3>Below are a few examples of evaluating arithmetic expressions in Python</h3>"
      ],
      "metadata": {
        "id": "UVtzjOJ6mQ_C"
      }
    },
    {
      "cell_type": "markdown",
      "source": [
        "Exercise 8 - Create a code cell to multiply and add numbers"
      ],
      "metadata": {
        "id": "T0sLR4WHmrqI"
      }
    },
    {
      "cell_type": "markdown",
      "source": [
        "This a simple arithmetic expression to mutiply then add integers"
      ],
      "metadata": {
        "id": "p-vRxsuZmxKt"
      }
    },
    {
      "cell_type": "code",
      "source": [
        "(3*4)+5"
      ],
      "metadata": {
        "colab": {
          "base_uri": "https://localhost:8080/"
        },
        "id": "yqoZGMhfbeyy",
        "outputId": "4106be57-91c2-4c4a-c8fe-42f6c160ae36"
      },
      "execution_count": 1,
      "outputs": [
        {
          "output_type": "execute_result",
          "data": {
            "text/plain": [
              "17"
            ]
          },
          "metadata": {},
          "execution_count": 1
        }
      ]
    },
    {
      "cell_type": "markdown",
      "source": [
        "Exercise 9 - Create a code cell to convert minutes to hours"
      ],
      "metadata": {
        "id": "9YO3xOG1nTrT"
      }
    },
    {
      "cell_type": "markdown",
      "source": [
        "This will convert 200 minutes to hours by diving by 60"
      ],
      "metadata": {
        "id": "RtJ-E4YPnUru"
      }
    },
    {
      "cell_type": "code",
      "source": [
        "mins = 200\n",
        "hours = mins / 60\n",
        "print(hours)"
      ],
      "metadata": {
        "colab": {
          "base_uri": "https://localhost:8080/"
        },
        "id": "x8WDxYRpm1t9",
        "outputId": "19351f1a-ae07-4af1-a9a9-4e46621c53e1"
      },
      "execution_count": 2,
      "outputs": [
        {
          "output_type": "stream",
          "name": "stdout",
          "text": [
            "3.3333333333333335\n"
          ]
        }
      ]
    },
    {
      "cell_type": "markdown",
      "source": [
        "<h2>Author</h2>\n",
        "--------------------------------------\n",
        "\n",
        "Mainak Chakraborty"
      ],
      "metadata": {
        "id": "MHxC_8Sipb8u"
      }
    },
    {
      "cell_type": "code",
      "source": [],
      "metadata": {
        "id": "sVWolJLLnoiR"
      },
      "execution_count": null,
      "outputs": []
    }
  ]
}